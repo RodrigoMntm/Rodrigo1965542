{
  "nbformat": 4,
  "nbformat_minor": 0,
  "metadata": {
    "colab": {
      "provenance": [],
      "authorship_tag": "ABX9TyP99BBa5WGbAmzpyW+cMXoW",
      "include_colab_link": true
    },
    "kernelspec": {
      "name": "python3",
      "display_name": "Python 3"
    },
    "language_info": {
      "name": "python"
    }
  },
  "cells": [
    {
      "cell_type": "markdown",
      "metadata": {
        "id": "view-in-github",
        "colab_type": "text"
      },
      "source": [
        "<a href=\"https://colab.research.google.com/github/RodrigoMntm/Rodrigo1965542/blob/main/A2_PythonExcercises.ipynb\" target=\"_parent\"><img src=\"https://colab.research.google.com/assets/colab-badge.svg\" alt=\"Open In Colab\"/></a>"
      ]
    },
    {
      "cell_type": "markdown",
      "source": [
        "Student Name:Rodrigo Emilio Sánchez Montemayor\n",
        "\n",
        "Id: 1965542\n",
        "\n",
        "Class: Artifical Intelligence\n",
        "\n",
        "Class Day and Hour: Thursday N4-N6"
      ],
      "metadata": {
        "id": "HdxHqGDUTRLs"
      }
    },
    {
      "cell_type": "markdown",
      "source": [
        "1. **Text Analysis Tool:** Create a Python program that reads a text file and performs various analyses on its content. The program should: Count the number of words, sentences, and paragraphs. Calculate the average word length. Identify the most common words and their frequencies."
      ],
      "metadata": {
        "id": "rPyJH8VdQVuw"
      }
    },
    {
      "cell_type": "code",
      "execution_count": null,
      "metadata": {
        "id": "4JYDzWu9QOOE"
      },
      "outputs": [],
      "source": [
        "# Import necessary libraries\n",
        "import nltk\n",
        "from nltk.tokenize import sent_tokenize, word_tokenize\n",
        "from nltk.probability import FreqDist\n",
        "import re\n",
        "from google.colab import files\n",
        "\n",
        "# Download NLTK data (if not already downloaded)\n",
        "nltk.download('punkt')\n",
        "\n",
        "# Function to read the text file\n",
        "def read_text_file(file_path):\n",
        "    try:\n",
        "        with open(file_path, 'r', encoding='utf-8') as file:\n",
        "            text = file.read()\n",
        "        return text\n",
        "    except FileNotFoundError:\n",
        "        print(f\"File '{file_path}' not found.\")\n",
        "        return None\n",
        "\n",
        "# Function to count words, sentences, and paragraphs\n",
        "def count_words_sentences_paragraphs(text):\n",
        "    # Remove punctuation and tokenize words\n",
        "    words = re.findall(r'\\b\\w+\\b', text.lower())\n",
        "\n",
        "    # Count words\n",
        "    num_words = len(words)\n",
        "\n",
        "    # Count sentences\n",
        "    sentences = sent_tokenize(text)\n",
        "    num_sentences = len(sentences)\n",
        "\n",
        "    # Count paragraphs (assumes paragraphs are separated by double line breaks)\n",
        "    paragraphs = re.split(r'\\n\\n', text)\n",
        "    num_paragraphs = len(paragraphs)\n",
        "\n",
        "    return num_words, num_sentences, num_paragraphs\n",
        "\n",
        "# Function to calculate the average word length\n",
        "def calculate_average_word_length(text):\n",
        "    words = re.findall(r'\\b\\w+\\b', text.lower())\n",
        "    total_word_length = sum(len(word) for word in words)\n",
        "    num_words = len(words)\n",
        "    if num_words > 0:\n",
        "        average_word_length = total_word_length / num_words\n",
        "    else:\n",
        "        average_word_length = 0\n",
        "    return average_word_length\n",
        "\n",
        "# Function to find the most common words\n",
        "def find_most_common_words(text, top_n=10):\n",
        "    words = re.findall(r'\\b\\w+\\b', text.lower())\n",
        "    word_freq = FreqDist(words)\n",
        "    most_common_words = word_freq.most_common(top_n)\n",
        "    return most_common_words\n",
        "\n",
        "# Uploads the .txt file using Google Colab\n",
        "uploaded = files.upload()\n",
        "file_name = list(uploaded.keys())[0]  # Gets the name of the uploaded file\n",
        "\n",
        "text = read_text_file(file_name)\n",
        "\n",
        "if text:\n",
        "    # Perform text analysis\n",
        "    num_words, num_sentences, num_paragraphs = count_words_sentences_paragraphs(text)\n",
        "    average_word_length = calculate_average_word_length(text)\n",
        "    most_common_words = find_most_common_words(text, top_n=10)\n",
        "\n",
        "    # Display the results\n",
        "    print(f\"Number of words: {num_words}\")\n",
        "    print(f\"Number of sentences: {num_sentences}\")\n",
        "    print(f\"Number of paragraphs: {num_paragraphs}\")\n",
        "    print(f\"Average word length: {average_word_length:.2f}\")\n",
        "    print(\"Most common words:\")\n",
        "    for word, freq in most_common_words:\n",
        "        print(f\"{word}: {freq} times\")\n"
      ]
    },
    {
      "cell_type": "markdown",
      "source": [
        "2. **Hangman Game:** Create a Python program that allows a user to play the game of Hangman. The program should randomly select a word from a predefined list, and the player must guess letters one at a time until they guess the word correctly or run out of attempts.\n"
      ],
      "metadata": {
        "id": "yinPHu2eQYBQ"
      }
    },
    {
      "cell_type": "code",
      "source": [
        "# Import the random library for generating random numbers and selecting a word to guess\n",
        "import random\n",
        "\n",
        "# List of flower names for the game\n",
        "word_list = [\"rose\", \"tulip\", \"daisy\", \"sunflower\", \"lily\", \"orchid\", \"carnation\", \"daffodil\", \"peonies\", \"hydrangea\"]\n",
        "\n",
        "# Select a random word from the list\n",
        "word_to_guess = random.choice(word_list)\n",
        "\n",
        "# Convert the word to a list of characters for easier tracking of guessed letters\n",
        "word_display = list(\"_\" * len(word_to_guess))\n",
        "\n",
        "# Set the maximum number of incorrect guesses allowed\n",
        "max_attempts = 5\n",
        "attempts = 0\n",
        "\n",
        "# Set to keep track of guessed letters\n",
        "guessed_letters = []\n",
        "\n",
        "# Main game loop\n",
        "while attempts < max_attempts:\n",
        "    # Display the current state of the word\n",
        "    print(\" \".join(word_display))\n",
        "\n",
        "    # Ask the player to guess a letter\n",
        "    guess = input(\"Guess a letter: \").lower()\n",
        "\n",
        "    # Check if the guess is a single letter\n",
        "    if len(guess) != 1 or not guess.isalpha():\n",
        "        print(\"Please enter a single letter.\")\n",
        "        continue\n",
        "\n",
        "    # Check if the letter has already been guessed\n",
        "    if guess in guessed_letters:\n",
        "        print(\"You've already guessed that letter.\")\n",
        "        continue\n",
        "\n",
        "    # Add the guessed letter to the list of guessed letters\n",
        "    guessed_letters.append(guess)\n",
        "\n",
        "    # Check if the guessed letter is in the word\n",
        "    if guess in word_to_guess:\n",
        "        for i in range(len(word_to_guess)):\n",
        "            if word_to_guess[i] == guess:\n",
        "                word_display[i] = guess\n",
        "        if \"_\" not in word_display:\n",
        "            print(\"Congratulations! You guessed the word:\", word_to_guess)\n",
        "            break\n",
        "    else:\n",
        "        attempts += 1\n",
        "        print(\"Incorrect guess. You have\", max_attempts - attempts, \"attempts left.\")\n",
        "\n",
        "if attempts == max_attempts:\n",
        "    print(\"You're out of attempts. The word was:\", word_to_guess)\n"
      ],
      "metadata": {
        "id": "pOK_9sd4QYKm"
      },
      "execution_count": null,
      "outputs": []
    },
    {
      "cell_type": "markdown",
      "source": [
        "3. **Number Guessing Game:** Create a program that generates a random number between 1 and 100, and then asks the user to guess the number. The program should provide hints to the user if the guessed number is greater or less than the target number, and keep asking for a new guess until the user guesses correctly."
      ],
      "metadata": {
        "id": "AA-l2IWcQYd4"
      }
    },
    {
      "cell_type": "code",
      "source": [
        "# Import the random library for generating random numbers and selecting a word to guess\n",
        "import random\n",
        "\n",
        "# Generate a random number between 1 and 100\n",
        "target_number = random.randint(1, 100)\n",
        "\n",
        "# Initialize the number of attempts\n",
        "attempts = 0\n",
        "\n",
        "# Main game loop\n",
        "while True:\n",
        "    # Ask the user to guess the number\n",
        "    user_guess = int(input(\"Guess the number between 1 and 100: \"))\n",
        "\n",
        "    # Increment the number of attempts\n",
        "    attempts += 1\n",
        "\n",
        "    # Check if the user's guess is correct\n",
        "    if user_guess == target_number:\n",
        "        print(f\"Congratulations! You guessed the number {target_number} in {attempts} attempts.\")\n",
        "        break  # Exit the loop if the guess is correct\n",
        "    elif user_guess < target_number:\n",
        "        print(\"The number is greater. Try again.\")\n",
        "    else:\n",
        "        print(\"The number is smaller. Try again.\")\n"
      ],
      "metadata": {
        "colab": {
          "base_uri": "https://localhost:8080/"
        },
        "id": "CEbJ4xgSQYl_",
        "outputId": "723e608d-c4b1-4140-b577-b9b18b698979"
      },
      "execution_count": 8,
      "outputs": [
        {
          "output_type": "stream",
          "name": "stdout",
          "text": [
            "Guess the number between 1 and 100: 50\n",
            "The number is greater. Try again.\n",
            "Guess the number between 1 and 100: 70\n",
            "The number is smaller. Try again.\n",
            "Guess the number between 1 and 100: 60\n",
            "The number is smaller. Try again.\n",
            "Guess the number between 1 and 100: 54\n",
            "The number is greater. Try again.\n",
            "Guess the number between 1 and 100: 58\n",
            "The number is smaller. Try again.\n",
            "Guess the number between 1 and 100: 55\n",
            "The number is greater. Try again.\n",
            "Guess the number between 1 and 100: 56\n",
            "The number is greater. Try again.\n",
            "Guess the number between 1 and 100: 57\n",
            "Congratulations! You guessed the number 57 in 8 attempts.\n"
          ]
        }
      ]
    }
  ]
}